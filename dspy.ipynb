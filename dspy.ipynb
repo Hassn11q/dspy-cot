{
 "cells": [
  {
   "cell_type": "code",
   "execution_count": 1,
   "metadata": {},
   "outputs": [
    {
     "name": "stdout",
     "output_type": "stream",
     "text": [
      "Requirement already satisfied: dspy-ai in /opt/anaconda3/envs/langserve-test-env-pinecone/lib/python3.11/site-packages (2.4.13)\n",
      "Requirement already satisfied: cohere in /opt/anaconda3/envs/langserve-test-env-pinecone/lib/python3.11/site-packages (5.5.6)\n",
      "Requirement already satisfied: backoff in /opt/anaconda3/envs/langserve-test-env-pinecone/lib/python3.11/site-packages (from dspy-ai) (2.2.1)\n",
      "Requirement already satisfied: datasets in /opt/anaconda3/envs/langserve-test-env-pinecone/lib/python3.11/site-packages (from dspy-ai) (2.21.0)\n",
      "Requirement already satisfied: joblib~=1.3 in /opt/anaconda3/envs/langserve-test-env-pinecone/lib/python3.11/site-packages (from dspy-ai) (1.4.2)\n",
      "Requirement already satisfied: openai<2.0.0,>=0.28.1 in /opt/anaconda3/envs/langserve-test-env-pinecone/lib/python3.11/site-packages (from dspy-ai) (1.33.0)\n",
      "Requirement already satisfied: optuna in /opt/anaconda3/envs/langserve-test-env-pinecone/lib/python3.11/site-packages (from dspy-ai) (3.6.1)\n",
      "Requirement already satisfied: pandas in /opt/anaconda3/envs/langserve-test-env-pinecone/lib/python3.11/site-packages (from dspy-ai) (2.2.2)\n",
      "Requirement already satisfied: pydantic~=2.0 in /opt/anaconda3/envs/langserve-test-env-pinecone/lib/python3.11/site-packages (from dspy-ai) (2.8.2)\n",
      "Requirement already satisfied: regex in /opt/anaconda3/envs/langserve-test-env-pinecone/lib/python3.11/site-packages (from dspy-ai) (2024.7.24)\n",
      "Requirement already satisfied: requests in /opt/anaconda3/envs/langserve-test-env-pinecone/lib/python3.11/site-packages (from dspy-ai) (2.32.3)\n",
      "Requirement already satisfied: structlog in /opt/anaconda3/envs/langserve-test-env-pinecone/lib/python3.11/site-packages (from dspy-ai) (24.4.0)\n",
      "Requirement already satisfied: tqdm in /opt/anaconda3/envs/langserve-test-env-pinecone/lib/python3.11/site-packages (from dspy-ai) (4.66.4)\n",
      "Requirement already satisfied: ujson in /opt/anaconda3/envs/langserve-test-env-pinecone/lib/python3.11/site-packages (from dspy-ai) (5.10.0)\n",
      "Requirement already satisfied: boto3<2.0.0,>=1.34.0 in /opt/anaconda3/envs/langserve-test-env-pinecone/lib/python3.11/site-packages (from cohere) (1.34.122)\n",
      "Requirement already satisfied: fastavro<2.0.0,>=1.9.4 in /opt/anaconda3/envs/langserve-test-env-pinecone/lib/python3.11/site-packages (from cohere) (1.9.4)\n",
      "Requirement already satisfied: httpx>=0.21.2 in /opt/anaconda3/envs/langserve-test-env-pinecone/lib/python3.11/site-packages (from cohere) (0.27.0)\n",
      "Requirement already satisfied: httpx-sse<0.5.0,>=0.4.0 in /opt/anaconda3/envs/langserve-test-env-pinecone/lib/python3.11/site-packages (from cohere) (0.4.0)\n",
      "Requirement already satisfied: parameterized<0.10.0,>=0.9.0 in /opt/anaconda3/envs/langserve-test-env-pinecone/lib/python3.11/site-packages (from cohere) (0.9.0)\n",
      "Requirement already satisfied: tokenizers<0.16,>=0.15 in /opt/anaconda3/envs/langserve-test-env-pinecone/lib/python3.11/site-packages (from cohere) (0.15.2)\n",
      "Requirement already satisfied: types-requests<3.0.0,>=2.0.0 in /opt/anaconda3/envs/langserve-test-env-pinecone/lib/python3.11/site-packages (from cohere) (2.32.0.20240602)\n",
      "Requirement already satisfied: typing_extensions>=4.0.0 in /opt/anaconda3/envs/langserve-test-env-pinecone/lib/python3.11/site-packages (from cohere) (4.12.2)\n",
      "Requirement already satisfied: botocore<1.35.0,>=1.34.122 in /opt/anaconda3/envs/langserve-test-env-pinecone/lib/python3.11/site-packages (from boto3<2.0.0,>=1.34.0->cohere) (1.34.122)\n",
      "Requirement already satisfied: jmespath<2.0.0,>=0.7.1 in /opt/anaconda3/envs/langserve-test-env-pinecone/lib/python3.11/site-packages (from boto3<2.0.0,>=1.34.0->cohere) (1.0.1)\n",
      "Requirement already satisfied: s3transfer<0.11.0,>=0.10.0 in /opt/anaconda3/envs/langserve-test-env-pinecone/lib/python3.11/site-packages (from boto3<2.0.0,>=1.34.0->cohere) (0.10.1)\n",
      "Requirement already satisfied: anyio in /opt/anaconda3/envs/langserve-test-env-pinecone/lib/python3.11/site-packages (from httpx>=0.21.2->cohere) (4.4.0)\n",
      "Requirement already satisfied: certifi in /opt/anaconda3/envs/langserve-test-env-pinecone/lib/python3.11/site-packages (from httpx>=0.21.2->cohere) (2024.6.2)\n",
      "Requirement already satisfied: httpcore==1.* in /opt/anaconda3/envs/langserve-test-env-pinecone/lib/python3.11/site-packages (from httpx>=0.21.2->cohere) (1.0.5)\n",
      "Requirement already satisfied: idna in /opt/anaconda3/envs/langserve-test-env-pinecone/lib/python3.11/site-packages (from httpx>=0.21.2->cohere) (3.7)\n",
      "Requirement already satisfied: sniffio in /opt/anaconda3/envs/langserve-test-env-pinecone/lib/python3.11/site-packages (from httpx>=0.21.2->cohere) (1.3.1)\n",
      "Requirement already satisfied: h11<0.15,>=0.13 in /opt/anaconda3/envs/langserve-test-env-pinecone/lib/python3.11/site-packages (from httpcore==1.*->httpx>=0.21.2->cohere) (0.14.0)\n",
      "Requirement already satisfied: distro<2,>=1.7.0 in /opt/anaconda3/envs/langserve-test-env-pinecone/lib/python3.11/site-packages (from openai<2.0.0,>=0.28.1->dspy-ai) (1.9.0)\n",
      "Requirement already satisfied: annotated-types>=0.4.0 in /opt/anaconda3/envs/langserve-test-env-pinecone/lib/python3.11/site-packages (from pydantic~=2.0->dspy-ai) (0.7.0)\n",
      "Requirement already satisfied: pydantic-core==2.20.1 in /opt/anaconda3/envs/langserve-test-env-pinecone/lib/python3.11/site-packages (from pydantic~=2.0->dspy-ai) (2.20.1)\n",
      "Requirement already satisfied: charset-normalizer<4,>=2 in /opt/anaconda3/envs/langserve-test-env-pinecone/lib/python3.11/site-packages (from requests->dspy-ai) (3.3.2)\n",
      "Requirement already satisfied: urllib3<3,>=1.21.1 in /opt/anaconda3/envs/langserve-test-env-pinecone/lib/python3.11/site-packages (from requests->dspy-ai) (2.2.1)\n",
      "Requirement already satisfied: huggingface_hub<1.0,>=0.16.4 in /opt/anaconda3/envs/langserve-test-env-pinecone/lib/python3.11/site-packages (from tokenizers<0.16,>=0.15->cohere) (0.23.3)\n",
      "Requirement already satisfied: filelock in /opt/anaconda3/envs/langserve-test-env-pinecone/lib/python3.11/site-packages (from datasets->dspy-ai) (3.14.0)\n",
      "Requirement already satisfied: numpy>=1.17 in /opt/anaconda3/envs/langserve-test-env-pinecone/lib/python3.11/site-packages (from datasets->dspy-ai) (1.26.4)\n",
      "Requirement already satisfied: pyarrow>=15.0.0 in /opt/anaconda3/envs/langserve-test-env-pinecone/lib/python3.11/site-packages (from datasets->dspy-ai) (17.0.0)\n",
      "Requirement already satisfied: dill<0.3.9,>=0.3.0 in /opt/anaconda3/envs/langserve-test-env-pinecone/lib/python3.11/site-packages (from datasets->dspy-ai) (0.3.8)\n",
      "Requirement already satisfied: xxhash in /opt/anaconda3/envs/langserve-test-env-pinecone/lib/python3.11/site-packages (from datasets->dspy-ai) (3.5.0)\n",
      "Requirement already satisfied: multiprocess in /opt/anaconda3/envs/langserve-test-env-pinecone/lib/python3.11/site-packages (from datasets->dspy-ai) (0.70.16)\n",
      "Requirement already satisfied: fsspec<=2024.6.1,>=2023.1.0 in /opt/anaconda3/envs/langserve-test-env-pinecone/lib/python3.11/site-packages (from fsspec[http]<=2024.6.1,>=2023.1.0->datasets->dspy-ai) (2024.6.0)\n",
      "Requirement already satisfied: aiohttp in /opt/anaconda3/envs/langserve-test-env-pinecone/lib/python3.11/site-packages (from datasets->dspy-ai) (3.10.5)\n",
      "Requirement already satisfied: packaging in /opt/anaconda3/envs/langserve-test-env-pinecone/lib/python3.11/site-packages (from datasets->dspy-ai) (23.2)\n",
      "Requirement already satisfied: pyyaml>=5.1 in /opt/anaconda3/envs/langserve-test-env-pinecone/lib/python3.11/site-packages (from datasets->dspy-ai) (6.0.1)\n",
      "Requirement already satisfied: alembic>=1.5.0 in /opt/anaconda3/envs/langserve-test-env-pinecone/lib/python3.11/site-packages (from optuna->dspy-ai) (1.13.2)\n",
      "Requirement already satisfied: colorlog in /opt/anaconda3/envs/langserve-test-env-pinecone/lib/python3.11/site-packages (from optuna->dspy-ai) (6.8.2)\n",
      "Requirement already satisfied: sqlalchemy>=1.3.0 in /opt/anaconda3/envs/langserve-test-env-pinecone/lib/python3.11/site-packages (from optuna->dspy-ai) (2.0.30)\n",
      "Requirement already satisfied: python-dateutil>=2.8.2 in /opt/anaconda3/envs/langserve-test-env-pinecone/lib/python3.11/site-packages (from pandas->dspy-ai) (2.9.0.post0)\n",
      "Requirement already satisfied: pytz>=2020.1 in /opt/anaconda3/envs/langserve-test-env-pinecone/lib/python3.11/site-packages (from pandas->dspy-ai) (2024.1)\n",
      "Requirement already satisfied: tzdata>=2022.7 in /opt/anaconda3/envs/langserve-test-env-pinecone/lib/python3.11/site-packages (from pandas->dspy-ai) (2024.1)\n",
      "Requirement already satisfied: Mako in /opt/anaconda3/envs/langserve-test-env-pinecone/lib/python3.11/site-packages (from alembic>=1.5.0->optuna->dspy-ai) (1.3.5)\n",
      "Requirement already satisfied: aiohappyeyeballs>=2.3.0 in /opt/anaconda3/envs/langserve-test-env-pinecone/lib/python3.11/site-packages (from aiohttp->datasets->dspy-ai) (2.4.0)\n",
      "Requirement already satisfied: aiosignal>=1.1.2 in /opt/anaconda3/envs/langserve-test-env-pinecone/lib/python3.11/site-packages (from aiohttp->datasets->dspy-ai) (1.3.1)\n",
      "Requirement already satisfied: attrs>=17.3.0 in /opt/anaconda3/envs/langserve-test-env-pinecone/lib/python3.11/site-packages (from aiohttp->datasets->dspy-ai) (23.2.0)\n",
      "Requirement already satisfied: frozenlist>=1.1.1 in /opt/anaconda3/envs/langserve-test-env-pinecone/lib/python3.11/site-packages (from aiohttp->datasets->dspy-ai) (1.4.1)\n",
      "Requirement already satisfied: multidict<7.0,>=4.5 in /opt/anaconda3/envs/langserve-test-env-pinecone/lib/python3.11/site-packages (from aiohttp->datasets->dspy-ai) (6.0.5)\n",
      "Requirement already satisfied: yarl<2.0,>=1.0 in /opt/anaconda3/envs/langserve-test-env-pinecone/lib/python3.11/site-packages (from aiohttp->datasets->dspy-ai) (1.9.4)\n",
      "Requirement already satisfied: six>=1.5 in /opt/anaconda3/envs/langserve-test-env-pinecone/lib/python3.11/site-packages (from python-dateutil>=2.8.2->pandas->dspy-ai) (1.16.0)\n",
      "Requirement already satisfied: MarkupSafe>=0.9.2 in /opt/anaconda3/envs/langserve-test-env-pinecone/lib/python3.11/site-packages (from Mako->alembic>=1.5.0->optuna->dspy-ai) (2.1.5)\n"
     ]
    }
   ],
   "source": [
    "!pip install dspy-ai cohere"
   ]
  },
  {
   "cell_type": "code",
   "execution_count": 2,
   "metadata": {},
   "outputs": [],
   "source": [
    "import dspy \n",
    "\n",
    "class AlmutanabbiPoetry(dspy.Signature):\n",
    "    \"Translate the simple words in arabic to poetry in Almutanabbi style \"\n",
    "    input = dspy.InputField()\n",
    "    output = dspy.OutputField()"
   ]
  },
  {
   "cell_type": "code",
   "execution_count": 4,
   "metadata": {},
   "outputs": [],
   "source": [
    "import os \n",
    "from dotenv import load_dotenv\n",
    "load_dotenv()\n",
    "\n",
    "CO_API_KEY = os.getenv(\"CO_API_KEY\")\n",
    "llm = dspy.Cohere(model=\"command-r-plus\", api_key=CO_API_KEY)\n",
    "dspy.settings.configure(lm=llm)"
   ]
  },
  {
   "cell_type": "code",
   "execution_count": 5,
   "metadata": {},
   "outputs": [],
   "source": [
    "from dspy.signatures.signature import signature_to_template\n",
    "template = signature_to_template(AlmutanabbiPoetry)"
   ]
  },
  {
   "cell_type": "code",
   "execution_count": 6,
   "metadata": {},
   "outputs": [
    {
     "data": {
      "text/plain": [
       "\"Template(Translate the simple words in arabic to poetry in Almutanabbi style , ['Input:', 'Output:'])\""
      ]
     },
     "execution_count": 6,
     "metadata": {},
     "output_type": "execute_result"
    }
   ],
   "source": [
    "str(template)"
   ]
  },
  {
   "cell_type": "code",
   "execution_count": 7,
   "metadata": {},
   "outputs": [],
   "source": [
    "class COT(dspy.Module):\n",
    "    def __init__(self):\n",
    "        super().__init__()\n",
    "        self.prog = dspy.ChainOfThought(AlmutanabbiPoetry)\n",
    "    def forward(self, input):\n",
    "        return self.prog(input = input)"
   ]
  },
  {
   "cell_type": "code",
   "execution_count": 8,
   "metadata": {},
   "outputs": [],
   "source": [
    "cot = COT()"
   ]
  },
  {
   "cell_type": "code",
   "execution_count": 18,
   "metadata": {},
   "outputs": [],
   "source": [
    "words = [\"بسم الله الرحمن الرحيم\", \"اهلا وسهلا\" , \"الليل\"]\n",
    "\n",
    "results = [cot.forward(word)for word in words]"
   ]
  },
  {
   "cell_type": "code",
   "execution_count": 24,
   "metadata": {},
   "outputs": [
    {
     "name": "stdout",
     "output_type": "stream",
     "text": [
      "Output: بِسْمِ الَّذِي مَدَّ بِالْجُودِ يَدَهُ\n",
      "\n",
      "وَأَمْسَكَتْ بِالْعَطَاءِ عَنِ الْوَرَى كَفُّهُ\n",
      "\n",
      "يَكْفِي الْمُسِيءَ مِنْهُ الْعَفْوُ وَالْمُحْسِنَا\n",
      "\n",
      "التَّفَضُّلُ مِنْهُ وَالْجُودُ وَالْمِنَنُ\n",
      "\n",
      "Reasoning: To translate this simple phrase into a poem in Almutanabbi's style, I added a second line that rhymes with the first and emphasizes Allah's generosity and power. The third and fourth lines continue this theme, alluding to Allah's ability to forgive and bestow blessings upon all, whether they are sinners or righteous. This style of poetry often employs a proud and grandiose tone, which I have attempted to capture here while remaining true to the original meaning of the phrase.\n",
      "Output: أهلاً بكمْ تحيَّةً نَمُدُّها،\n",
      "بكلِّ ما في الضيافة من كَرَمْ\n",
      "\n",
      "لقد أتَيتُمُ داراً لا كمثلها،\n",
      "ترحيبها يُضاهي سُؤْدُدَ الأممْ\n",
      "\n",
      "Translation: Welcome, a greeting we extend,\n",
      "With all the hospitality of generosity,\n",
      "\n",
      "You have come to a house like no other,\n",
      "Its welcome rivals the grandeur of nations.\n",
      "\n",
      "Reasoning: To translate the simple Arabic phrase \"ahlan wa sahlan\" (\"welcome\") into a poem in the style of Al-Mutanabbi, I aimed to capture the essence of generous hospitality and grandeur that was often present in his poetry. The poem emphasizes the warmth and grandeur of the welcome, alluding to the proud and noble traditions of Arab hospitality.\n",
      "Output: أَرَقٌ عَلَى أَرَقٍ وَمِثْلِي يَأرَقُ\n",
      "\n",
      "وَجَوًى يَزِيدُ وَعَبْرَةٌ تَتَرَقْرَقُ\n",
      "\n",
      "جُدْتَ كَمَا جِئْتَ، لاَ كَمَنْ يَعِدُ وَيُخْلِفُ\n",
      "\n",
      "مَرْحَبًا بِمَا جِئْتَ بِهِ إِنْ كُنْتَ صَادِقًا\n",
      "\n",
      "Reasoning: To translate the word \"الليل\" (night) into a poem in the style of Al-Mutanabbi, I drew inspiration from his themes of introspection, solitude, and the passage of time. Al-Mutanabbi often used night as a backdrop for self-reflection and contemplation. In this short poem, I capture the essence of \"الليل\" by alluding to the restless state of an insomniac, overwhelmed by emotions and thoughts. The poem welcomes the night as a bringer of truth and solace, echoing Al-Mutanabbi's style of profound introspection.\n"
     ]
    }
   ],
   "source": [
    "for i in range(3):\n",
    "    print(results[i]['rationale'])"
   ]
  }
 ],
 "metadata": {
  "kernelspec": {
   "display_name": "langserve-test-env-pinecone",
   "language": "python",
   "name": "python3"
  },
  "language_info": {
   "codemirror_mode": {
    "name": "ipython",
    "version": 3
   },
   "file_extension": ".py",
   "mimetype": "text/x-python",
   "name": "python",
   "nbconvert_exporter": "python",
   "pygments_lexer": "ipython3",
   "version": "3.11.9"
  }
 },
 "nbformat": 4,
 "nbformat_minor": 2
}
